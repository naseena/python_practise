{
 "cells": [
  {
   "cell_type": "code",
   "execution_count": null,
   "id": "80477759",
   "metadata": {},
   "outputs": [],
   "source": [
    "#-------------------logic5a----------------"
   ]
  },
  {
   "cell_type": "code",
   "execution_count": null,
   "id": "77b66b70",
   "metadata": {},
   "outputs": [],
   "source": [
    "medb_claimpull[\"widget_flag\"]='Y'"
   ]
  },
  {
   "cell_type": "code",
   "execution_count": null,
   "id": "f69b0f63",
   "metadata": {},
   "outputs": [],
   "source": [
    "MEDB_WIDGET_WORK=medb_claimpull"
   ]
  },
  {
   "cell_type": "code",
   "execution_count": null,
   "id": "fade44dd",
   "metadata": {},
   "outputs": [],
   "source": [
    "#--------------logic5b--------"
   ]
  },
  {
   "cell_type": "code",
   "execution_count": null,
   "id": "b0de5490",
   "metadata": {},
   "outputs": [],
   "source": [
    "MEDB_WIDGET_WORK[\"STATUS_CDE\"]=np.where(MEDB_WIDGET_WORK[\"SERVICED_DTE\"]<DATE-90,\"D\",MEDB_WIDGET_WORK[\"STATUS_CDE\"])"
   ]
  },
  {
   "cell_type": "code",
   "execution_count": null,
   "id": "f8ad256d",
   "metadata": {},
   "outputs": [],
   "source": [
    "#-----------------logic5c-------------------"
   ]
  },
  {
   "cell_type": "code",
   "execution_count": null,
   "id": "5da4d73d",
   "metadata": {},
   "outputs": [],
   "source": [
    "MEDB_WIDGET_WORK_v1=MEDB_WIDGET_WORK[MEDB_WEDGET_WORK[\"STATUS_CDE\"]==\"I\"]\n",
    "MEDB_WIDGET_WORK_v1_filter=MEDB_WIDGET_WORK[[\"PATIENT_ID\",\"GCN_NBR\"]]\n"
   ]
  },
  {
   "cell_type": "code",
   "execution_count": null,
   "id": "d1e533f0",
   "metadata": {},
   "outputs": [],
   "source": [
    "lst=MEDB_WEDGET_WORK['PHCY_CLAIM_ID'].tolist"
   ]
  },
  {
   "cell_type": "code",
   "execution_count": null,
   "id": "d744d53c",
   "metadata": {},
   "outputs": [],
   "source": [
    "MEDB_WIDGET_WORK['STATUS_CDE']=np.where(MEDB_WIDGET_WORK['PHCY_CLAIM_ID'].isin(lst))"
   ]
  },
  {
   "cell_type": "code",
   "execution_count": null,
   "id": "fd4e9946",
   "metadata": {},
   "outputs": [],
   "source": []
  },
  {
   "cell_type": "code",
   "execution_count": null,
   "id": "7edcab78",
   "metadata": {},
   "outputs": [],
   "source": []
  },
  {
   "cell_type": "code",
   "execution_count": null,
   "id": "0122cc11",
   "metadata": {},
   "outputs": [],
   "source": [
    "#---------------------------------logic5c oth------------------------"
   ]
  },
  {
   "cell_type": "code",
   "execution_count": null,
   "id": "e6353d11",
   "metadata": {},
   "outputs": [],
   "source": [
    "#tables-----------"
   ]
  },
  {
   "cell_type": "code",
   "execution_count": null,
   "id": "cf986277",
   "metadata": {},
   "outputs": [],
   "source": [
    "HIST_PHARMACY_OTH_CLAIM"
   ]
  },
  {
   "cell_type": "code",
   "execution_count": null,
   "id": "180647c4",
   "metadata": {},
   "outputs": [],
   "source": [
    "FIN_OPP_MPC"
   ]
  },
  {
   "cell_type": "code",
   "execution_count": null,
   "id": "801e7023",
   "metadata": {},
   "outputs": [],
   "source": [
    "MEDB_WIDGET_WORK"
   ]
  },
  {
   "cell_type": "code",
   "execution_count": null,
   "id": "f50e01fb",
   "metadata": {},
   "outputs": [],
   "source": [
    "#------------------------RENAME---------------------"
   ]
  },
  {
   "cell_type": "code",
   "execution_count": null,
   "id": "64f50ec6",
   "metadata": {},
   "outputs": [],
   "source": [
    "HIST_PHARMACY_OTH_CLAIM.rename(columns={'PHCY_PRODUCT_SERVICE_ID':'PRODUCT_SERVICE_ID'},inplace=True)"
   ]
  },
  {
   "cell_type": "code",
   "execution_count": null,
   "id": "6f75e2e1",
   "metadata": {},
   "outputs": [],
   "source": [
    "#---------------------MERGE1--------------------"
   ]
  },
  {
   "cell_type": "code",
   "execution_count": null,
   "id": "b8f7219a",
   "metadata": {},
   "outputs": [],
   "source": [
    "OTH_FIN_MERGE=HIST_PHARMACY_OTH_CLAIM.merge(FIN_OPP_MPC,how=\"ineer\",on=\"PRODUCT_SERVICE_ID\")"
   ]
  },
  {
   "cell_type": "code",
   "execution_count": null,
   "id": "fbc71a15",
   "metadata": {},
   "outputs": [],
   "source": [
    "#-------------------MERGE2-----------------------"
   ]
  },
  {
   "cell_type": "code",
   "execution_count": null,
   "id": "33d3b7e0",
   "metadata": {},
   "outputs": [],
   "source": [
    "OTH_FIN_WIDGET_MERGE=OTH_FIN_MERGE.merge(MEDB_WIDGET_WORK,how=\"ineer\",on=[\"PATIENT_ID\",\"GCN_NBR\"])"
   ]
  },
  {
   "cell_type": "code",
   "execution_count": null,
   "id": "70ef38ff",
   "metadata": {},
   "outputs": [],
   "source": [
    "#-------------------------UPDATE WIDGET---------------------"
   ]
  },
  {
   "cell_type": "code",
   "execution_count": null,
   "id": "a74b6547",
   "metadata": {},
   "outputs": [],
   "source": [
    "OTH_FIN_WIDGET_MERGE_lst=OTH_FIN_WIDGET_MERGE['PHCY_CLAIM_ID'].tolist"
   ]
  },
  {
   "cell_type": "code",
   "execution_count": null,
   "id": "665f0b12",
   "metadata": {},
   "outputs": [],
   "source": [
    "MEDB_WIDGET_WORK[\"WIDGET\"]=np.where(MEDB_WIDGET_WORK['PHCY_CLAIM_ID'].isin(OTH_FIN_WIDGET_MERGE_lst),STATUS_CDE='D',MEDB_WIDGET_WORK[\"WIDGET\"])"
   ]
  },
  {
   "cell_type": "code",
   "execution_count": null,
   "id": "be9ce0d7",
   "metadata": {},
   "outputs": [],
   "source": []
  },
  {
   "cell_type": "code",
   "execution_count": null,
   "id": "a58ce9c5",
   "metadata": {},
   "outputs": [],
   "source": [
    "#---------------------------5TH BWP---------------------------"
   ]
  },
  {
   "cell_type": "code",
   "execution_count": null,
   "id": "93c7ca76",
   "metadata": {},
   "outputs": [],
   "source": [
    "HIST_PHARMACY_BWP_CLAIM"
   ]
  },
  {
   "cell_type": "code",
   "execution_count": null,
   "id": "1d5a6e68",
   "metadata": {},
   "outputs": [],
   "source": [
    "FIN_OPP_MPC"
   ]
  },
  {
   "cell_type": "code",
   "execution_count": null,
   "id": "5754343c",
   "metadata": {},
   "outputs": [],
   "source": [
    "MEDB_WIDGET_WORK"
   ]
  },
  {
   "cell_type": "code",
   "execution_count": null,
   "id": "7ff746e3",
   "metadata": {},
   "outputs": [],
   "source": [
    "#----------------------RENAME-------------------"
   ]
  },
  {
   "cell_type": "code",
   "execution_count": null,
   "id": "9d72978a",
   "metadata": {},
   "outputs": [],
   "source": [
    "HIST_PHARMACY_BWP_CLAIM.rename(columns={'PHCY_PRODUCT_SERVICE_ID':'PRODUCT_SERVICE_ID'},inplace=True)"
   ]
  },
  {
   "cell_type": "code",
   "execution_count": null,
   "id": "15e0205d",
   "metadata": {},
   "outputs": [],
   "source": [
    "#----------------------MERGE1-----------------------------------"
   ]
  },
  {
   "cell_type": "code",
   "execution_count": null,
   "id": "acd43583",
   "metadata": {},
   "outputs": [],
   "source": [
    "BWP_FIN_MERGE=HIST_PHARMACY_BWP_CLAIM.merge(FIN_OPP_MPC,how=\"ineer\",on=\"PRODUCT_SERVICE_ID\")"
   ]
  },
  {
   "cell_type": "code",
   "execution_count": null,
   "id": "79d67f75",
   "metadata": {},
   "outputs": [],
   "source": [
    "#-----------------------MERGE2-----------------------"
   ]
  },
  {
   "cell_type": "code",
   "execution_count": null,
   "id": "7a70e5ec",
   "metadata": {},
   "outputs": [],
   "source": [
    "BWP_FIN_WIDGET_MERGE=BWP_FIN_MERGE.merge(MEDB_WIDGET_WORK,how=\"ineer\",on=[\"PATIENT_ID\",\"GCN_NBR\"])"
   ]
  },
  {
   "cell_type": "code",
   "execution_count": null,
   "id": "4a199638",
   "metadata": {},
   "outputs": [],
   "source": [
    "#-------------------------UPDATE WIDGET---------------------"
   ]
  },
  {
   "cell_type": "code",
   "execution_count": null,
   "id": "b0ac8bfd",
   "metadata": {},
   "outputs": [],
   "source": [
    "BWP_FIN_WIDGET_MERGE_lst=BWP_FIN_WIDGET_MERGE['PHCY_CLAIM_ID'].tolist"
   ]
  },
  {
   "cell_type": "code",
   "execution_count": null,
   "id": "12d572d9",
   "metadata": {},
   "outputs": [],
   "source": [
    "MEDB_WIDGET_WORK[\"WIDGET\"]=np.where(MEDB_WIDGET_WORK['PHCY_CLAIM_ID'].isin(BWP_FIN_WIDGET_MERGE_lst),STATUS_CDE='D',MEDB_WIDGET_WORK[\"WIDGET\"])"
   ]
  },
  {
   "cell_type": "code",
   "execution_count": null,
   "id": "6b61ad23",
   "metadata": {},
   "outputs": [],
   "source": []
  },
  {
   "cell_type": "code",
   "execution_count": null,
   "id": "ba279e4b",
   "metadata": {},
   "outputs": [],
   "source": [
    "#----------------------gm--------------------------"
   ]
  },
  {
   "cell_type": "code",
   "execution_count": null,
   "id": "44ff6f5e",
   "metadata": {},
   "outputs": [],
   "source": [
    "#--------------------bva------------------------"
   ]
  },
  {
   "cell_type": "code",
   "execution_count": null,
   "id": "7ea61aa4",
   "metadata": {},
   "outputs": [],
   "source": [
    "#--------------------uhg--------------------"
   ]
  },
  {
   "cell_type": "code",
   "execution_count": null,
   "id": "50bbaf0f",
   "metadata": {},
   "outputs": [],
   "source": [
    "#---------------------fep--------------------"
   ]
  },
  {
   "cell_type": "code",
   "execution_count": null,
   "id": "8667fdb0",
   "metadata": {},
   "outputs": [],
   "source": [
    "#------------------current_pharmacy claim------------------------------"
   ]
  },
  {
   "cell_type": "code",
   "execution_count": null,
   "id": "68bbbb1d",
   "metadata": {},
   "outputs": [],
   "source": [
    "CURR_PHARMACY_CLAIM1"
   ]
  },
  {
   "cell_type": "code",
   "execution_count": null,
   "id": "d63aada2",
   "metadata": {},
   "outputs": [],
   "source": [
    "FIN_OPP_SUBMIT_TYPE"
   ]
  },
  {
   "cell_type": "code",
   "execution_count": null,
   "id": "a73a63bf",
   "metadata": {},
   "outputs": [],
   "source": [
    "FIN_OPP_MPC"
   ]
  },
  {
   "cell_type": "code",
   "execution_count": null,
   "id": "83f5fe85",
   "metadata": {},
   "outputs": [],
   "source": [
    "MEDB_WIDGET_WORK"
   ]
  },
  {
   "cell_type": "code",
   "execution_count": null,
   "id": "a95ba54f",
   "metadata": {},
   "outputs": [],
   "source": [
    "#---------------------RENAME----------------------"
   ]
  },
  {
   "cell_type": "code",
   "execution_count": null,
   "id": "30734255",
   "metadata": {},
   "outputs": [],
   "source": [
    "CURR_PHARMACY_CLAIM1.rename(columns={'ELIG_GROUP_OPERATIONAL_ID':'GROUP_OPERATIONAL_ID'},inplace=True)"
   ]
  },
  {
   "cell_type": "code",
   "execution_count": null,
   "id": "eed30dbb",
   "metadata": {},
   "outputs": [],
   "source": [
    "#-----------------MERGE1-------------------"
   ]
  },
  {
   "cell_type": "code",
   "execution_count": null,
   "id": "c350e9fa",
   "metadata": {},
   "outputs": [],
   "source": [
    "CURR_PHARMACY_SUBMIT_TYPE_MERGE=CURR_PHARMACY_CLAIM1.merge(FIN_OPP_SUBMIT_TYPE,how='inner',on='GROUP_OPERATIONAL_ID')"
   ]
  },
  {
   "cell_type": "code",
   "execution_count": null,
   "id": "6a482eac",
   "metadata": {},
   "outputs": [],
   "source": [
    "#---------------------RENAME----------------------"
   ]
  },
  {
   "cell_type": "code",
   "execution_count": null,
   "id": "831c8b9c",
   "metadata": {},
   "outputs": [],
   "source": [
    "CURR_PHARMACY_SUBMIT_TYPE_MERGE.rename(columns={'PHCY_PRODUCT_SERVICE_ID':'PRODUCT_SERVICE_ID'},inplace=True)"
   ]
  },
  {
   "cell_type": "code",
   "execution_count": null,
   "id": "0e79c238",
   "metadata": {},
   "outputs": [],
   "source": [
    "#------------------MERGE2----------------------"
   ]
  },
  {
   "cell_type": "code",
   "execution_count": null,
   "id": "63221e4b",
   "metadata": {},
   "outputs": [],
   "source": [
    "CURR_PHARMACY_SUBMIT_TYPE_FIN_MERGE=CURR_PHARMACY_SUBMIT_TYPE_MERGE.merge(FIN_OPP_MPC,how='inner',on='PRODUCT_SERVICE_ID')"
   ]
  },
  {
   "cell_type": "code",
   "execution_count": null,
   "id": "e9165c03",
   "metadata": {},
   "outputs": [],
   "source": [
    "#------------------MERGE3----------------------"
   ]
  },
  {
   "cell_type": "code",
   "execution_count": null,
   "id": "7d0c3c14",
   "metadata": {},
   "outputs": [],
   "source": [
    "CURR_PHARMACY_SUBMIT_TYPE_FIN_WIDGET_MERGE=CURR_PHARMACY_SUBMIT_TYPE_FIN_MERGE.merge(MEDB_WIDGET_WORK,how=\"ineer\",on=[\"PATIENT_ID\",\"GCN_NBR\"])"
   ]
  },
  {
   "cell_type": "code",
   "execution_count": null,
   "id": "04809713",
   "metadata": {},
   "outputs": [],
   "source": [
    "#-------------------------UPDATE WIDGET---------------------"
   ]
  },
  {
   "cell_type": "code",
   "execution_count": null,
   "id": "c4fdf5f2",
   "metadata": {},
   "outputs": [],
   "source": [
    "CURR_PHARMACY_SUBMIT_TYPE_FIN_WIDGETV1=CURR_PHARMACY_SUBMIT_TYPE_FIN_WIDGET_MERGE['PHCY_CLAIM_ID'].tolist"
   ]
  },
  {
   "cell_type": "code",
   "execution_count": null,
   "id": "fcfac799",
   "metadata": {},
   "outputs": [],
   "source": [
    "MEDB_WIDGET_WORK[\"WIDGET\"]=np.where(MEDB_WIDGET_WORK['PHCY_CLAIM_ID'].isin(CURR_PHARMACY_SUBMIT_TYPE_FIN_WIDGETV1),STATUS_CDE='D',MEDB_WIDGET_WORK[\"WIDGET\"])"
   ]
  },
  {
   "cell_type": "code",
   "execution_count": null,
   "id": "54443bed",
   "metadata": {},
   "outputs": [],
   "source": []
  },
  {
   "cell_type": "code",
   "execution_count": null,
   "id": "9123d6ec",
   "metadata": {},
   "outputs": [],
   "source": [
    "#---------------------5D-----------------------------"
   ]
  },
  {
   "cell_type": "code",
   "execution_count": null,
   "id": "531c005a",
   "metadata": {},
   "outputs": [],
   "source": [
    "MEDB_CLAIMPULL"
   ]
  },
  {
   "cell_type": "code",
   "execution_count": null,
   "id": "38fd8dc2",
   "metadata": {},
   "outputs": [],
   "source": [
    "MEDB_WIDGET_WORK"
   ]
  },
  {
   "cell_type": "code",
   "execution_count": null,
   "id": "c8dfe6c0",
   "metadata": {},
   "outputs": [],
   "source": []
  },
  {
   "cell_type": "code",
   "execution_count": null,
   "id": "54b3f39e",
   "metadata": {},
   "outputs": [],
   "source": [
    "MEDB_CLAIMPULL_V1=MEDB_CLAIMPULL[[\"PHCY_CLAIM_ID\",\"PATIENT_ID\",\"GCN_NBR\"]]"
   ]
  },
  {
   "cell_type": "code",
   "execution_count": null,
   "id": "015d41ac",
   "metadata": {},
   "outputs": [],
   "source": [
    "MEDB_WIDGET_WORK_V1=MEDB_WIDGET_WORK[[\"PHCY_CLAIM_ID\",\"PATIENT_ID\",\"GCN_NBR\"]]"
   ]
  },
  {
   "cell_type": "code",
   "execution_count": null,
   "id": "e5238674",
   "metadata": {},
   "outputs": [],
   "source": [
    "MEDB_CLAIMPULL[\"STATUS_CDE\"]=np.where(MEDB_CLAIMPULL.MEDB_CLAIMPULL_V1.isin(MEDB_WIDGET_WORK_V1),\"D\",MEDB_CLAIMPULL[\"STATUS_CDE\"])"
   ]
  },
  {
   "cell_type": "code",
   "execution_count": null,
   "id": "6f8ef97f",
   "metadata": {},
   "outputs": [],
   "source": []
  },
  {
   "cell_type": "code",
   "execution_count": null,
   "id": "e7c8af5f",
   "metadata": {},
   "outputs": [],
   "source": []
  },
  {
   "cell_type": "code",
   "execution_count": null,
   "id": "ea904a58",
   "metadata": {},
   "outputs": [],
   "source": []
  }
 ],
 "metadata": {
  "kernelspec": {
   "display_name": "Python 3 (ipykernel)",
   "language": "python",
   "name": "python3"
  },
  "language_info": {
   "codemirror_mode": {
    "name": "ipython",
    "version": 3
   },
   "file_extension": ".py",
   "mimetype": "text/x-python",
   "name": "python",
   "nbconvert_exporter": "python",
   "pygments_lexer": "ipython3",
   "version": "3.11.4"
  }
 },
 "nbformat": 4,
 "nbformat_minor": 5
}
